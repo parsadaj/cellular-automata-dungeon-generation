{
 "cells": [
  {
   "cell_type": "code",
   "execution_count": 1,
   "metadata": {},
   "outputs": [],
   "source": [
    "import numpy as np\n",
    "import matplotlib.pyplot as plt\n",
    "from scipy.signal import convolve2d\n",
    "import time"
   ]
  },
  {
   "cell_type": "markdown",
   "metadata": {},
   "source": [
    "Parameters"
   ]
  },
  {
   "cell_type": "code",
   "execution_count": 40,
   "metadata": {},
   "outputs": [
    {
     "data": {
      "text/plain": [
       "13"
      ]
     },
     "execution_count": 40,
     "metadata": {},
     "output_type": "execute_result"
    }
   ],
   "source": [
    "rock_percentage = 0.5\n",
    "n_iterations = 4\n",
    "n_neighborhood = 2\n",
    "room_size = 50\n",
    "neighborhood_threshold = 13\n",
    "neighborhood_threshold\n"
   ]
  },
  {
   "cell_type": "markdown",
   "metadata": {},
   "source": [
    "Count Neighbors Function"
   ]
  },
  {
   "cell_type": "code",
   "execution_count": 41,
   "metadata": {},
   "outputs": [
    {
     "name": "stdout",
     "output_type": "stream",
     "text": [
      "Time for the first function: 0.00020599365234375 seconds\n",
      "Time for your function: 0.010877132415771484 seconds\n",
      "Are the results the same? True\n"
     ]
    }
   ],
   "source": [
    "# convolve function\n",
    "def count_neighbors_convolve2d(array, n_neighborhood=1):\n",
    "    kernel = np.ones((2*n_neighborhood + 1, 2*n_neighborhood + 1))\n",
    "    kernel[n_neighborhood, n_neighborhood] = 0\n",
    "    neighbor_count = convolve2d(array, kernel, mode='same', boundary='fill', fillvalue=0)\n",
    "    return neighbor_count\n",
    "\n",
    "# for loop function\n",
    "def count_neighbors(binary_array):\n",
    "    # Create a padding array with zeros\n",
    "    padded_array = np.pad(binary_array, 1, mode='constant', constant_values=0)\n",
    "    \n",
    "    # Initialize the output array\n",
    "    neighbor_count = np.zeros_like(binary_array)\n",
    "    \n",
    "    # Iterate over the original array\n",
    "    for i in range(binary_array.shape[0]):\n",
    "        for j in range(binary_array.shape[1]):\n",
    "            # Extract the 3x3 neighborhood around the current cell\n",
    "            neighborhood = padded_array[i:i+3, j:j+3]\n",
    "            \n",
    "            # Count the number of ones in the neighborhood (excluding the center cell)\n",
    "            neighbor_count[i, j] = np.sum(neighborhood) - padded_array[i+1, j+1]\n",
    "    \n",
    "    return neighbor_count\n",
    "\n",
    "# Create a 50x50 array of zeros and ones\n",
    "array = np.random.choice([0, 1], size=(50, 50))\n",
    "\n",
    "# Measure the time for the first function\n",
    "start_time = time.time()\n",
    "result1 = count_neighbors_convolve2d(array)\n",
    "end_time = time.time()\n",
    "print(f\"Time for the first function: {end_time - start_time} seconds\")\n",
    "\n",
    "# Measure the time for your function\n",
    "start_time = time.time()\n",
    "result2 = count_neighbors(array)\n",
    "end_time = time.time()\n",
    "print(f\"Time for your function: {end_time - start_time} seconds\")\n",
    "\n",
    "# Check if the results are the same\n",
    "print(f\"Are the results the same? {np.array_equal(result1, result2)}\")\n"
   ]
  },
  {
   "cell_type": "code",
   "execution_count": 53,
   "metadata": {},
   "outputs": [
    {
     "data": {
      "text/plain": [
       "<matplotlib.image.AxesImage at 0x1674696a0>"
      ]
     },
     "execution_count": 53,
     "metadata": {},
     "output_type": "execute_result"
    },
    {
     "data": {
      "image/png": "[encoded data removed]",
      "text/plain": [
       "<Figure size 640x480 with 2 Axes>"
      ]
     },
     "metadata": {},
     "output_type": "display_data"
    }
   ],
   "source": [
    "rooms = []\n",
    "rooms.append(np.random.choice([0, 1], (room_size, room_size) ,p=[1-rock_percentage, rock_percentage]))\n",
    "\n",
    "fig, axes = plt.subplots(1+1)\n",
    "axes[0].imshow(rooms[0])\n",
    "for i in range(n_iterations):\n",
    "    neighbor_count = count_neighbors_convolve2d(rooms[i], n_neighborhood)\n",
    "    rooms.append((neighbor_count < neighborhood_threshold).astype(int))\n",
    "axes[-1].imshow(rooms[i+1])\n",
    "\n",
    "    "
   ]
  },
  {
   "cell_type": "code",
   "execution_count": null,
   "metadata": {},
   "outputs": [],
   "source": []
  },
  {
   "cell_type": "code",
   "execution_count": null,
   "metadata": {},
   "outputs": [],
   "source": []
  },
  {
   "cell_type": "code",
   "execution_count": 117,
   "metadata": {},
   "outputs": [
    {
     "data": {
      "text/plain": [
       "12"
      ]
     },
     "execution_count": 117,
     "metadata": {},
     "output_type": "execute_result"
    }
   ],
   "source": [
    "neighborhood_threshold"
   ]
  },
  {
   "cell_type": "code",
   "execution_count": null,
   "metadata": {},
   "outputs": [],
   "source": []
  }
 ],
 "metadata": {
  "kernelspec": {
   "display_name": "Python 3",
   "language": "python",
   "name": "python3"
  },
  "language_info": {
   "codemirror_mode": {
    "name": "ipython",
    "version": 3
   },
   "file_extension": ".py",
   "mimetype": "text/x-python",
   "name": "python",
   "nbconvert_exporter": "python",
   "pygments_lexer": "ipython3",
   "version": "3.9.6"
  }
 },
 "nbformat": 4,
 "nbformat_minor": 2
}
